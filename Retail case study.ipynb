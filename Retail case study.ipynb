{
 "cells": [
  {
   "cell_type": "code",
   "execution_count": 1,
   "id": "9b0f2720-29a9-44d3-aa4d-0e38db1f5529",
   "metadata": {},
   "outputs": [],
   "source": [
    "import numpy as np\n",
    "import pandas as pd\n",
    "import matplotlib.pyplot as plt\n",
    "import seaborn as sns\n",
    "import datetime as dt\n",
    "import random\n",
    "import re\n",
    "\n",
    "%matplotlib inline\n"
   ]
  },
  {
   "cell_type": "code",
   "execution_count": 183,
   "id": "e80b3c1e-3ba6-4e98-9f52-77d0f91a4165",
   "metadata": {},
   "outputs": [],
   "source": [
    "transaction = pd.read_csv(r\"C:\\Users\\hp\\Downloads\\Python Case Study\\Case Study 1 - Retail Case Study\\Transactions.csv\")\n",
    "product = pd.read_csv(r\"C:\\Users\\hp\\Downloads\\Python Case Study\\Case Study 1 - Retail Case Study\\prod_cat_info.csv\")\n",
    "customer =  pd.read_csv(r\"C:\\Users\\hp\\Downloads\\Python Case Study\\Case Study 1 - Retail Case Study\\Customer.csv\")"
   ]
  },
  {
   "cell_type": "markdown",
   "id": "8fd8b0f1-ae9a-4d34-b774-706c103c36dc",
   "metadata": {},
   "source": [
    "### Q1. Merge the datasets Customers, Product Hierarchy and Transactions as Customer_Final. Ensure to keep all customers who have done transactions with us and select the join type accordingly."
   ]
  },
  {
   "cell_type": "code",
   "execution_count": 185,
   "id": "b9aae718-667c-49b0-bb39-2a60fc17f3c2",
   "metadata": {},
   "outputs": [],
   "source": [
    "customer_final1 = pd.merge(transaction,product , left_on= ['prod_cat_code','prod_subcat_code'], right_on=['prod_cat_code','prod_sub_cat_code'], how='inner')\n",
    "customer_final1.drop(columns= 'prod_sub_cat_code',inplace= True)\n",
    "customer_final = pd.merge(customer_final1, customer , left_on='cust_id', right_on='customer_Id', how='inner')\n",
    "customer_final.drop(columns= 'customer_Id',inplace= True)"
   ]
  },
  {
   "cell_type": "code",
   "execution_count": 187,
   "id": "bb1cb852-a947-4ebd-9310-96b5811b0c73",
   "metadata": {},
   "outputs": [],
   "source": [
    "customer_final[\"DOB\"] = pd.to_datetime(customer_final[\"DOB\"], format=\"%d-%m-%Y\")\n",
    "customer_final[\"tran_date\"] = pd.to_datetime(customer_final[\"tran_date\"], dayfirst= True , format= 'mixed')"
   ]
  },
  {
   "cell_type": "code",
   "execution_count": 189,
   "id": "4611fdb7-e6cc-4bb6-aa37-4f9ab5562ed5",
   "metadata": {},
   "outputs": [
    {
     "data": {
      "text/html": [
       "<div>\n",
       "<style scoped>\n",
       "    .dataframe tbody tr th:only-of-type {\n",
       "        vertical-align: middle;\n",
       "    }\n",
       "\n",
       "    .dataframe tbody tr th {\n",
       "        vertical-align: top;\n",
       "    }\n",
       "\n",
       "    .dataframe thead th {\n",
       "        text-align: right;\n",
       "    }\n",
       "</style>\n",
       "<table border=\"1\" class=\"dataframe\">\n",
       "  <thead>\n",
       "    <tr style=\"text-align: right;\">\n",
       "      <th></th>\n",
       "      <th>transaction_id</th>\n",
       "      <th>cust_id</th>\n",
       "      <th>tran_date</th>\n",
       "      <th>prod_subcat_code</th>\n",
       "      <th>prod_cat_code</th>\n",
       "      <th>Qty</th>\n",
       "      <th>Rate</th>\n",
       "      <th>Tax</th>\n",
       "      <th>total_amt</th>\n",
       "      <th>Store_type</th>\n",
       "      <th>prod_cat</th>\n",
       "      <th>prod_subcat</th>\n",
       "      <th>DOB</th>\n",
       "      <th>Gender</th>\n",
       "      <th>city_code</th>\n",
       "    </tr>\n",
       "  </thead>\n",
       "  <tbody>\n",
       "    <tr>\n",
       "      <th>0</th>\n",
       "      <td>80712190438</td>\n",
       "      <td>270351</td>\n",
       "      <td>2014-02-28</td>\n",
       "      <td>1</td>\n",
       "      <td>1</td>\n",
       "      <td>-5</td>\n",
       "      <td>-772</td>\n",
       "      <td>405.300</td>\n",
       "      <td>-4265.300</td>\n",
       "      <td>e-Shop</td>\n",
       "      <td>Clothing</td>\n",
       "      <td>Women</td>\n",
       "      <td>1981-09-26</td>\n",
       "      <td>M</td>\n",
       "      <td>5.0</td>\n",
       "    </tr>\n",
       "    <tr>\n",
       "      <th>1</th>\n",
       "      <td>29258453508</td>\n",
       "      <td>270384</td>\n",
       "      <td>2014-02-27</td>\n",
       "      <td>5</td>\n",
       "      <td>3</td>\n",
       "      <td>-5</td>\n",
       "      <td>-1497</td>\n",
       "      <td>785.925</td>\n",
       "      <td>-8270.925</td>\n",
       "      <td>e-Shop</td>\n",
       "      <td>Electronics</td>\n",
       "      <td>Computers</td>\n",
       "      <td>1973-05-11</td>\n",
       "      <td>F</td>\n",
       "      <td>8.0</td>\n",
       "    </tr>\n",
       "    <tr>\n",
       "      <th>2</th>\n",
       "      <td>51750724947</td>\n",
       "      <td>273420</td>\n",
       "      <td>2014-02-24</td>\n",
       "      <td>6</td>\n",
       "      <td>5</td>\n",
       "      <td>-2</td>\n",
       "      <td>-791</td>\n",
       "      <td>166.110</td>\n",
       "      <td>-1748.110</td>\n",
       "      <td>TeleShop</td>\n",
       "      <td>Books</td>\n",
       "      <td>DIY</td>\n",
       "      <td>1992-07-27</td>\n",
       "      <td>M</td>\n",
       "      <td>8.0</td>\n",
       "    </tr>\n",
       "    <tr>\n",
       "      <th>3</th>\n",
       "      <td>93274880719</td>\n",
       "      <td>271509</td>\n",
       "      <td>2014-02-24</td>\n",
       "      <td>11</td>\n",
       "      <td>6</td>\n",
       "      <td>-3</td>\n",
       "      <td>-1363</td>\n",
       "      <td>429.345</td>\n",
       "      <td>-4518.345</td>\n",
       "      <td>e-Shop</td>\n",
       "      <td>Home and kitchen</td>\n",
       "      <td>Bath</td>\n",
       "      <td>1981-06-08</td>\n",
       "      <td>M</td>\n",
       "      <td>3.0</td>\n",
       "    </tr>\n",
       "    <tr>\n",
       "      <th>4</th>\n",
       "      <td>51750724947</td>\n",
       "      <td>273420</td>\n",
       "      <td>2014-02-23</td>\n",
       "      <td>6</td>\n",
       "      <td>5</td>\n",
       "      <td>-2</td>\n",
       "      <td>-791</td>\n",
       "      <td>166.110</td>\n",
       "      <td>-1748.110</td>\n",
       "      <td>TeleShop</td>\n",
       "      <td>Books</td>\n",
       "      <td>DIY</td>\n",
       "      <td>1992-07-27</td>\n",
       "      <td>M</td>\n",
       "      <td>8.0</td>\n",
       "    </tr>\n",
       "    <tr>\n",
       "      <th>...</th>\n",
       "      <td>...</td>\n",
       "      <td>...</td>\n",
       "      <td>...</td>\n",
       "      <td>...</td>\n",
       "      <td>...</td>\n",
       "      <td>...</td>\n",
       "      <td>...</td>\n",
       "      <td>...</td>\n",
       "      <td>...</td>\n",
       "      <td>...</td>\n",
       "      <td>...</td>\n",
       "      <td>...</td>\n",
       "      <td>...</td>\n",
       "      <td>...</td>\n",
       "      <td>...</td>\n",
       "    </tr>\n",
       "    <tr>\n",
       "      <th>23048</th>\n",
       "      <td>94340757522</td>\n",
       "      <td>274550</td>\n",
       "      <td>2011-01-25</td>\n",
       "      <td>12</td>\n",
       "      <td>5</td>\n",
       "      <td>1</td>\n",
       "      <td>1264</td>\n",
       "      <td>132.720</td>\n",
       "      <td>1396.720</td>\n",
       "      <td>e-Shop</td>\n",
       "      <td>Books</td>\n",
       "      <td>Academic</td>\n",
       "      <td>1972-02-21</td>\n",
       "      <td>M</td>\n",
       "      <td>7.0</td>\n",
       "    </tr>\n",
       "    <tr>\n",
       "      <th>23049</th>\n",
       "      <td>89780862956</td>\n",
       "      <td>270022</td>\n",
       "      <td>2011-01-25</td>\n",
       "      <td>4</td>\n",
       "      <td>1</td>\n",
       "      <td>1</td>\n",
       "      <td>677</td>\n",
       "      <td>71.085</td>\n",
       "      <td>748.085</td>\n",
       "      <td>e-Shop</td>\n",
       "      <td>Clothing</td>\n",
       "      <td>Mens</td>\n",
       "      <td>1984-04-27</td>\n",
       "      <td>M</td>\n",
       "      <td>9.0</td>\n",
       "    </tr>\n",
       "    <tr>\n",
       "      <th>23050</th>\n",
       "      <td>85115299378</td>\n",
       "      <td>271020</td>\n",
       "      <td>2011-01-25</td>\n",
       "      <td>2</td>\n",
       "      <td>6</td>\n",
       "      <td>4</td>\n",
       "      <td>1052</td>\n",
       "      <td>441.840</td>\n",
       "      <td>4649.840</td>\n",
       "      <td>MBR</td>\n",
       "      <td>Home and kitchen</td>\n",
       "      <td>Furnishing</td>\n",
       "      <td>1976-06-20</td>\n",
       "      <td>M</td>\n",
       "      <td>8.0</td>\n",
       "    </tr>\n",
       "    <tr>\n",
       "      <th>23051</th>\n",
       "      <td>72870271171</td>\n",
       "      <td>270911</td>\n",
       "      <td>2011-01-25</td>\n",
       "      <td>11</td>\n",
       "      <td>5</td>\n",
       "      <td>3</td>\n",
       "      <td>1142</td>\n",
       "      <td>359.730</td>\n",
       "      <td>3785.730</td>\n",
       "      <td>TeleShop</td>\n",
       "      <td>Books</td>\n",
       "      <td>Children</td>\n",
       "      <td>1970-05-22</td>\n",
       "      <td>M</td>\n",
       "      <td>2.0</td>\n",
       "    </tr>\n",
       "    <tr>\n",
       "      <th>23052</th>\n",
       "      <td>77960931771</td>\n",
       "      <td>271961</td>\n",
       "      <td>2011-01-25</td>\n",
       "      <td>11</td>\n",
       "      <td>5</td>\n",
       "      <td>1</td>\n",
       "      <td>447</td>\n",
       "      <td>46.935</td>\n",
       "      <td>493.935</td>\n",
       "      <td>TeleShop</td>\n",
       "      <td>Books</td>\n",
       "      <td>Children</td>\n",
       "      <td>1982-01-15</td>\n",
       "      <td>M</td>\n",
       "      <td>1.0</td>\n",
       "    </tr>\n",
       "  </tbody>\n",
       "</table>\n",
       "<p>23053 rows × 15 columns</p>\n",
       "</div>"
      ],
      "text/plain": [
       "       transaction_id  cust_id  tran_date  prod_subcat_code  prod_cat_code  \\\n",
       "0         80712190438   270351 2014-02-28                 1              1   \n",
       "1         29258453508   270384 2014-02-27                 5              3   \n",
       "2         51750724947   273420 2014-02-24                 6              5   \n",
       "3         93274880719   271509 2014-02-24                11              6   \n",
       "4         51750724947   273420 2014-02-23                 6              5   \n",
       "...               ...      ...        ...               ...            ...   \n",
       "23048     94340757522   274550 2011-01-25                12              5   \n",
       "23049     89780862956   270022 2011-01-25                 4              1   \n",
       "23050     85115299378   271020 2011-01-25                 2              6   \n",
       "23051     72870271171   270911 2011-01-25                11              5   \n",
       "23052     77960931771   271961 2011-01-25                11              5   \n",
       "\n",
       "       Qty  Rate      Tax  total_amt Store_type          prod_cat prod_subcat  \\\n",
       "0       -5  -772  405.300  -4265.300     e-Shop          Clothing       Women   \n",
       "1       -5 -1497  785.925  -8270.925     e-Shop       Electronics   Computers   \n",
       "2       -2  -791  166.110  -1748.110   TeleShop             Books         DIY   \n",
       "3       -3 -1363  429.345  -4518.345     e-Shop  Home and kitchen        Bath   \n",
       "4       -2  -791  166.110  -1748.110   TeleShop             Books         DIY   \n",
       "...    ...   ...      ...        ...        ...               ...         ...   \n",
       "23048    1  1264  132.720   1396.720     e-Shop             Books    Academic   \n",
       "23049    1   677   71.085    748.085     e-Shop          Clothing        Mens   \n",
       "23050    4  1052  441.840   4649.840        MBR  Home and kitchen  Furnishing   \n",
       "23051    3  1142  359.730   3785.730   TeleShop             Books    Children   \n",
       "23052    1   447   46.935    493.935   TeleShop             Books    Children   \n",
       "\n",
       "             DOB Gender  city_code  \n",
       "0     1981-09-26      M        5.0  \n",
       "1     1973-05-11      F        8.0  \n",
       "2     1992-07-27      M        8.0  \n",
       "3     1981-06-08      M        3.0  \n",
       "4     1992-07-27      M        8.0  \n",
       "...          ...    ...        ...  \n",
       "23048 1972-02-21      M        7.0  \n",
       "23049 1984-04-27      M        9.0  \n",
       "23050 1976-06-20      M        8.0  \n",
       "23051 1970-05-22      M        2.0  \n",
       "23052 1982-01-15      M        1.0  \n",
       "\n",
       "[23053 rows x 15 columns]"
      ]
     },
     "execution_count": 189,
     "metadata": {},
     "output_type": "execute_result"
    }
   ],
   "source": [
    "customer_final"
   ]
  },
  {
   "cell_type": "code",
   "execution_count": 980,
   "id": "492cf66a-d0d1-4196-947a-de8d2ec5ae6c",
   "metadata": {},
   "outputs": [
    {
     "data": {
      "text/plain": [
       "transaction_id      0\n",
       "cust_id             0\n",
       "tran_date           0\n",
       "prod_subcat_code    0\n",
       "prod_cat_code       0\n",
       "Qty                 0\n",
       "Rate                0\n",
       "Tax                 0\n",
       "total_amt           0\n",
       "Store_type          0\n",
       "prod_cat            0\n",
       "prod_subcat         0\n",
       "DOB                 0\n",
       "Gender              9\n",
       "city_code           8\n",
       "dtype: int64"
      ]
     },
     "execution_count": 980,
     "metadata": {},
     "output_type": "execute_result"
    }
   ],
   "source": [
    "customer_final.isnull().sum()"
   ]
  },
  {
   "cell_type": "code",
   "execution_count": 193,
   "id": "205443dd-73d3-4933-989b-7bd2ce72680a",
   "metadata": {},
   "outputs": [
    {
     "data": {
      "text/plain": [
       "13"
      ]
     },
     "execution_count": 193,
     "metadata": {},
     "output_type": "execute_result"
    }
   ],
   "source": [
    "customer_final.duplicated().sum()"
   ]
  },
  {
   "cell_type": "code",
   "execution_count": 195,
   "id": "31d84d16-be9d-42f2-87e5-477bb83ba488",
   "metadata": {},
   "outputs": [],
   "source": [
    "customer_final.drop_duplicates(inplace=True)"
   ]
  },
  {
   "cell_type": "code",
   "execution_count": 197,
   "id": "60da0a1e-3250-40ec-b1b0-c909211042da",
   "metadata": {},
   "outputs": [
    {
     "data": {
      "text/plain": [
       "0"
      ]
     },
     "execution_count": 197,
     "metadata": {},
     "output_type": "execute_result"
    }
   ],
   "source": [
    "customer_final.duplicated().sum()"
   ]
  },
  {
   "cell_type": "markdown",
   "id": "4edc9f91-0989-47b3-b1f4-3a900759f70f",
   "metadata": {},
   "source": [
    "### Q2. Prepare a summary report for the merged data set.\n",
    "a. Get the column names and their corresponding data types \n",
    "\n",
    "b. Top/Bottom 10 observations\n",
    "\n",
    "c. “Five-number summary” for continuous variables (min, Q1, median, Q3 and max)\n",
    "\n",
    "d. Frequency tables for all the categorical variables"
   ]
  },
  {
   "cell_type": "code",
   "execution_count": 216,
   "id": "1627681f-bd0b-49a0-b96b-524f4ae06f48",
   "metadata": {},
   "outputs": [
    {
     "data": {
      "text/plain": [
       "Index(['transaction_id', 'cust_id', 'tran_date', 'prod_subcat_code',\n",
       "       'prod_cat_code', 'Qty', 'Rate', 'Tax', 'total_amt', 'Store_type',\n",
       "       'prod_cat', 'prod_subcat', 'DOB', 'Gender', 'city_code'],\n",
       "      dtype='object')"
      ]
     },
     "execution_count": 216,
     "metadata": {},
     "output_type": "execute_result"
    }
   ],
   "source": [
    "## (a.)\n",
    "\n",
    "customer_final.columns"
   ]
  },
  {
   "cell_type": "code",
   "execution_count": 218,
   "id": "8a26b2a7-2324-4c79-a0ad-074ce92d62e3",
   "metadata": {},
   "outputs": [
    {
     "data": {
      "text/plain": [
       "transaction_id               int64\n",
       "cust_id                      int64\n",
       "tran_date           datetime64[ns]\n",
       "prod_subcat_code             int64\n",
       "prod_cat_code                int64\n",
       "Qty                          int64\n",
       "Rate                         int64\n",
       "Tax                        float64\n",
       "total_amt                  float64\n",
       "Store_type                  object\n",
       "prod_cat                    object\n",
       "prod_subcat                 object\n",
       "DOB                 datetime64[ns]\n",
       "Gender                      object\n",
       "city_code                  float64\n",
       "dtype: object"
      ]
     },
     "execution_count": 218,
     "metadata": {},
     "output_type": "execute_result"
    }
   ],
   "source": [
    "customer_final.dtypes"
   ]
  },
  {
   "cell_type": "code",
   "execution_count": 1217,
   "id": "8f8324ed-2e78-4aa6-8d3c-7036cca930e9",
   "metadata": {},
   "outputs": [
    {
     "data": {
      "text/html": [
       "<div>\n",
       "<style scoped>\n",
       "    .dataframe tbody tr th:only-of-type {\n",
       "        vertical-align: middle;\n",
       "    }\n",
       "\n",
       "    .dataframe tbody tr th {\n",
       "        vertical-align: top;\n",
       "    }\n",
       "\n",
       "    .dataframe thead th {\n",
       "        text-align: right;\n",
       "    }\n",
       "</style>\n",
       "<table border=\"1\" class=\"dataframe\">\n",
       "  <thead>\n",
       "    <tr style=\"text-align: right;\">\n",
       "      <th></th>\n",
       "      <th>transaction_id</th>\n",
       "      <th>cust_id</th>\n",
       "      <th>tran_date</th>\n",
       "      <th>prod_subcat_code</th>\n",
       "      <th>prod_cat_code</th>\n",
       "      <th>Qty</th>\n",
       "      <th>Rate</th>\n",
       "      <th>Tax</th>\n",
       "      <th>total_amt</th>\n",
       "      <th>Store_type</th>\n",
       "      <th>prod_cat</th>\n",
       "      <th>prod_subcat</th>\n",
       "      <th>DOB</th>\n",
       "      <th>Gender</th>\n",
       "      <th>city_code</th>\n",
       "    </tr>\n",
       "  </thead>\n",
       "  <tbody>\n",
       "    <tr>\n",
       "      <th>0</th>\n",
       "      <td>80712190438</td>\n",
       "      <td>270351</td>\n",
       "      <td>2014-02-28</td>\n",
       "      <td>1</td>\n",
       "      <td>1</td>\n",
       "      <td>-5</td>\n",
       "      <td>-772</td>\n",
       "      <td>405.300</td>\n",
       "      <td>-4265.300</td>\n",
       "      <td>e-Shop</td>\n",
       "      <td>Clothing</td>\n",
       "      <td>Women</td>\n",
       "      <td>1981-09-26</td>\n",
       "      <td>M</td>\n",
       "      <td>5.0</td>\n",
       "    </tr>\n",
       "    <tr>\n",
       "      <th>1</th>\n",
       "      <td>29258453508</td>\n",
       "      <td>270384</td>\n",
       "      <td>2014-02-27</td>\n",
       "      <td>5</td>\n",
       "      <td>3</td>\n",
       "      <td>-5</td>\n",
       "      <td>-1497</td>\n",
       "      <td>785.925</td>\n",
       "      <td>-8270.925</td>\n",
       "      <td>e-Shop</td>\n",
       "      <td>Electronics</td>\n",
       "      <td>Computers</td>\n",
       "      <td>1973-05-11</td>\n",
       "      <td>F</td>\n",
       "      <td>8.0</td>\n",
       "    </tr>\n",
       "    <tr>\n",
       "      <th>2</th>\n",
       "      <td>51750724947</td>\n",
       "      <td>273420</td>\n",
       "      <td>2014-02-24</td>\n",
       "      <td>6</td>\n",
       "      <td>5</td>\n",
       "      <td>-2</td>\n",
       "      <td>-791</td>\n",
       "      <td>166.110</td>\n",
       "      <td>-1748.110</td>\n",
       "      <td>TeleShop</td>\n",
       "      <td>Books</td>\n",
       "      <td>DIY</td>\n",
       "      <td>1992-07-27</td>\n",
       "      <td>M</td>\n",
       "      <td>8.0</td>\n",
       "    </tr>\n",
       "    <tr>\n",
       "      <th>3</th>\n",
       "      <td>93274880719</td>\n",
       "      <td>271509</td>\n",
       "      <td>2014-02-24</td>\n",
       "      <td>11</td>\n",
       "      <td>6</td>\n",
       "      <td>-3</td>\n",
       "      <td>-1363</td>\n",
       "      <td>429.345</td>\n",
       "      <td>-4518.345</td>\n",
       "      <td>e-Shop</td>\n",
       "      <td>Home and kitchen</td>\n",
       "      <td>Bath</td>\n",
       "      <td>1981-06-08</td>\n",
       "      <td>M</td>\n",
       "      <td>3.0</td>\n",
       "    </tr>\n",
       "    <tr>\n",
       "      <th>4</th>\n",
       "      <td>51750724947</td>\n",
       "      <td>273420</td>\n",
       "      <td>2014-02-23</td>\n",
       "      <td>6</td>\n",
       "      <td>5</td>\n",
       "      <td>-2</td>\n",
       "      <td>-791</td>\n",
       "      <td>166.110</td>\n",
       "      <td>-1748.110</td>\n",
       "      <td>TeleShop</td>\n",
       "      <td>Books</td>\n",
       "      <td>DIY</td>\n",
       "      <td>1992-07-27</td>\n",
       "      <td>M</td>\n",
       "      <td>8.0</td>\n",
       "    </tr>\n",
       "    <tr>\n",
       "      <th>5</th>\n",
       "      <td>97439039119</td>\n",
       "      <td>272357</td>\n",
       "      <td>2014-02-23</td>\n",
       "      <td>8</td>\n",
       "      <td>3</td>\n",
       "      <td>-2</td>\n",
       "      <td>-824</td>\n",
       "      <td>173.040</td>\n",
       "      <td>-1821.040</td>\n",
       "      <td>TeleShop</td>\n",
       "      <td>Electronics</td>\n",
       "      <td>Personal Appliances</td>\n",
       "      <td>1982-10-09</td>\n",
       "      <td>F</td>\n",
       "      <td>6.0</td>\n",
       "    </tr>\n",
       "    <tr>\n",
       "      <th>6</th>\n",
       "      <td>45649838090</td>\n",
       "      <td>273667</td>\n",
       "      <td>2014-02-22</td>\n",
       "      <td>11</td>\n",
       "      <td>6</td>\n",
       "      <td>-1</td>\n",
       "      <td>-1450</td>\n",
       "      <td>152.250</td>\n",
       "      <td>-1602.250</td>\n",
       "      <td>e-Shop</td>\n",
       "      <td>Home and kitchen</td>\n",
       "      <td>Bath</td>\n",
       "      <td>1981-05-29</td>\n",
       "      <td>M</td>\n",
       "      <td>9.0</td>\n",
       "    </tr>\n",
       "    <tr>\n",
       "      <th>7</th>\n",
       "      <td>22643667930</td>\n",
       "      <td>271489</td>\n",
       "      <td>2014-02-22</td>\n",
       "      <td>12</td>\n",
       "      <td>6</td>\n",
       "      <td>-1</td>\n",
       "      <td>-1225</td>\n",
       "      <td>128.625</td>\n",
       "      <td>-1353.625</td>\n",
       "      <td>TeleShop</td>\n",
       "      <td>Home and kitchen</td>\n",
       "      <td>Tools</td>\n",
       "      <td>1971-04-21</td>\n",
       "      <td>M</td>\n",
       "      <td>9.0</td>\n",
       "    </tr>\n",
       "    <tr>\n",
       "      <th>8</th>\n",
       "      <td>79792372943</td>\n",
       "      <td>275108</td>\n",
       "      <td>2014-02-22</td>\n",
       "      <td>3</td>\n",
       "      <td>1</td>\n",
       "      <td>-3</td>\n",
       "      <td>-908</td>\n",
       "      <td>286.020</td>\n",
       "      <td>-3010.020</td>\n",
       "      <td>MBR</td>\n",
       "      <td>Clothing</td>\n",
       "      <td>Kids</td>\n",
       "      <td>1971-11-04</td>\n",
       "      <td>F</td>\n",
       "      <td>8.0</td>\n",
       "    </tr>\n",
       "    <tr>\n",
       "      <th>9</th>\n",
       "      <td>50076728598</td>\n",
       "      <td>269014</td>\n",
       "      <td>2014-02-21</td>\n",
       "      <td>8</td>\n",
       "      <td>3</td>\n",
       "      <td>-4</td>\n",
       "      <td>-581</td>\n",
       "      <td>244.020</td>\n",
       "      <td>-2568.020</td>\n",
       "      <td>e-Shop</td>\n",
       "      <td>Electronics</td>\n",
       "      <td>Personal Appliances</td>\n",
       "      <td>1979-11-27</td>\n",
       "      <td>F</td>\n",
       "      <td>3.0</td>\n",
       "    </tr>\n",
       "  </tbody>\n",
       "</table>\n",
       "</div>"
      ],
      "text/plain": [
       "   transaction_id  cust_id  tran_date  prod_subcat_code  prod_cat_code  Qty  \\\n",
       "0     80712190438   270351 2014-02-28                 1              1   -5   \n",
       "1     29258453508   270384 2014-02-27                 5              3   -5   \n",
       "2     51750724947   273420 2014-02-24                 6              5   -2   \n",
       "3     93274880719   271509 2014-02-24                11              6   -3   \n",
       "4     51750724947   273420 2014-02-23                 6              5   -2   \n",
       "5     97439039119   272357 2014-02-23                 8              3   -2   \n",
       "6     45649838090   273667 2014-02-22                11              6   -1   \n",
       "7     22643667930   271489 2014-02-22                12              6   -1   \n",
       "8     79792372943   275108 2014-02-22                 3              1   -3   \n",
       "9     50076728598   269014 2014-02-21                 8              3   -4   \n",
       "\n",
       "   Rate      Tax  total_amt Store_type          prod_cat          prod_subcat  \\\n",
       "0  -772  405.300  -4265.300     e-Shop          Clothing                Women   \n",
       "1 -1497  785.925  -8270.925     e-Shop       Electronics            Computers   \n",
       "2  -791  166.110  -1748.110   TeleShop             Books                  DIY   \n",
       "3 -1363  429.345  -4518.345     e-Shop  Home and kitchen                 Bath   \n",
       "4  -791  166.110  -1748.110   TeleShop             Books                  DIY   \n",
       "5  -824  173.040  -1821.040   TeleShop       Electronics  Personal Appliances   \n",
       "6 -1450  152.250  -1602.250     e-Shop  Home and kitchen                 Bath   \n",
       "7 -1225  128.625  -1353.625   TeleShop  Home and kitchen                Tools   \n",
       "8  -908  286.020  -3010.020        MBR          Clothing                 Kids   \n",
       "9  -581  244.020  -2568.020     e-Shop       Electronics  Personal Appliances   \n",
       "\n",
       "         DOB Gender  city_code  \n",
       "0 1981-09-26      M        5.0  \n",
       "1 1973-05-11      F        8.0  \n",
       "2 1992-07-27      M        8.0  \n",
       "3 1981-06-08      M        3.0  \n",
       "4 1992-07-27      M        8.0  \n",
       "5 1982-10-09      F        6.0  \n",
       "6 1981-05-29      M        9.0  \n",
       "7 1971-04-21      M        9.0  \n",
       "8 1971-11-04      F        8.0  \n",
       "9 1979-11-27      F        3.0  "
      ]
     },
     "execution_count": 1217,
     "metadata": {},
     "output_type": "execute_result"
    }
   ],
   "source": [
    "## (b.)\n",
    "\n",
    "customer_final.head(10)"
   ]
  },
  {
   "cell_type": "code",
   "execution_count": 222,
   "id": "f4bdd06d-1993-4249-991e-2f11032cb5f2",
   "metadata": {},
   "outputs": [
    {
     "data": {
      "text/html": [
       "<div>\n",
       "<style scoped>\n",
       "    .dataframe tbody tr th:only-of-type {\n",
       "        vertical-align: middle;\n",
       "    }\n",
       "\n",
       "    .dataframe tbody tr th {\n",
       "        vertical-align: top;\n",
       "    }\n",
       "\n",
       "    .dataframe thead th {\n",
       "        text-align: right;\n",
       "    }\n",
       "</style>\n",
       "<table border=\"1\" class=\"dataframe\">\n",
       "  <thead>\n",
       "    <tr style=\"text-align: right;\">\n",
       "      <th></th>\n",
       "      <th>transaction_id</th>\n",
       "      <th>cust_id</th>\n",
       "      <th>tran_date</th>\n",
       "      <th>prod_subcat_code</th>\n",
       "      <th>prod_cat_code</th>\n",
       "      <th>Qty</th>\n",
       "      <th>Rate</th>\n",
       "      <th>Tax</th>\n",
       "      <th>total_amt</th>\n",
       "      <th>Store_type</th>\n",
       "      <th>prod_cat</th>\n",
       "      <th>prod_subcat</th>\n",
       "      <th>DOB</th>\n",
       "      <th>Gender</th>\n",
       "      <th>city_code</th>\n",
       "    </tr>\n",
       "  </thead>\n",
       "  <tbody>\n",
       "    <tr>\n",
       "      <th>23043</th>\n",
       "      <td>49882891062</td>\n",
       "      <td>271982</td>\n",
       "      <td>2011-01-25</td>\n",
       "      <td>10</td>\n",
       "      <td>5</td>\n",
       "      <td>4</td>\n",
       "      <td>1330</td>\n",
       "      <td>558.600</td>\n",
       "      <td>5878.600</td>\n",
       "      <td>e-Shop</td>\n",
       "      <td>Books</td>\n",
       "      <td>Non-Fiction</td>\n",
       "      <td>1976-08-10</td>\n",
       "      <td>M</td>\n",
       "      <td>8.0</td>\n",
       "    </tr>\n",
       "    <tr>\n",
       "      <th>23044</th>\n",
       "      <td>14787475597</td>\n",
       "      <td>273982</td>\n",
       "      <td>2011-01-25</td>\n",
       "      <td>4</td>\n",
       "      <td>3</td>\n",
       "      <td>5</td>\n",
       "      <td>969</td>\n",
       "      <td>508.725</td>\n",
       "      <td>5353.725</td>\n",
       "      <td>e-Shop</td>\n",
       "      <td>Electronics</td>\n",
       "      <td>Mobiles</td>\n",
       "      <td>1991-10-12</td>\n",
       "      <td>M</td>\n",
       "      <td>4.0</td>\n",
       "    </tr>\n",
       "    <tr>\n",
       "      <th>23045</th>\n",
       "      <td>50691119572</td>\n",
       "      <td>273031</td>\n",
       "      <td>2011-01-25</td>\n",
       "      <td>6</td>\n",
       "      <td>5</td>\n",
       "      <td>1</td>\n",
       "      <td>1148</td>\n",
       "      <td>120.540</td>\n",
       "      <td>1268.540</td>\n",
       "      <td>TeleShop</td>\n",
       "      <td>Books</td>\n",
       "      <td>DIY</td>\n",
       "      <td>1980-01-17</td>\n",
       "      <td>F</td>\n",
       "      <td>8.0</td>\n",
       "    </tr>\n",
       "    <tr>\n",
       "      <th>23046</th>\n",
       "      <td>40893803228</td>\n",
       "      <td>272049</td>\n",
       "      <td>2011-01-25</td>\n",
       "      <td>11</td>\n",
       "      <td>6</td>\n",
       "      <td>3</td>\n",
       "      <td>1077</td>\n",
       "      <td>339.255</td>\n",
       "      <td>3570.255</td>\n",
       "      <td>e-Shop</td>\n",
       "      <td>Home and kitchen</td>\n",
       "      <td>Bath</td>\n",
       "      <td>1975-06-28</td>\n",
       "      <td>F</td>\n",
       "      <td>6.0</td>\n",
       "    </tr>\n",
       "    <tr>\n",
       "      <th>23047</th>\n",
       "      <td>30856003613</td>\n",
       "      <td>266866</td>\n",
       "      <td>2011-01-25</td>\n",
       "      <td>4</td>\n",
       "      <td>2</td>\n",
       "      <td>2</td>\n",
       "      <td>444</td>\n",
       "      <td>93.240</td>\n",
       "      <td>981.240</td>\n",
       "      <td>TeleShop</td>\n",
       "      <td>Footwear</td>\n",
       "      <td>Kids</td>\n",
       "      <td>1974-04-18</td>\n",
       "      <td>M</td>\n",
       "      <td>4.0</td>\n",
       "    </tr>\n",
       "    <tr>\n",
       "      <th>23048</th>\n",
       "      <td>94340757522</td>\n",
       "      <td>274550</td>\n",
       "      <td>2011-01-25</td>\n",
       "      <td>12</td>\n",
       "      <td>5</td>\n",
       "      <td>1</td>\n",
       "      <td>1264</td>\n",
       "      <td>132.720</td>\n",
       "      <td>1396.720</td>\n",
       "      <td>e-Shop</td>\n",
       "      <td>Books</td>\n",
       "      <td>Academic</td>\n",
       "      <td>1972-02-21</td>\n",
       "      <td>M</td>\n",
       "      <td>7.0</td>\n",
       "    </tr>\n",
       "    <tr>\n",
       "      <th>23049</th>\n",
       "      <td>89780862956</td>\n",
       "      <td>270022</td>\n",
       "      <td>2011-01-25</td>\n",
       "      <td>4</td>\n",
       "      <td>1</td>\n",
       "      <td>1</td>\n",
       "      <td>677</td>\n",
       "      <td>71.085</td>\n",
       "      <td>748.085</td>\n",
       "      <td>e-Shop</td>\n",
       "      <td>Clothing</td>\n",
       "      <td>Mens</td>\n",
       "      <td>1984-04-27</td>\n",
       "      <td>M</td>\n",
       "      <td>9.0</td>\n",
       "    </tr>\n",
       "    <tr>\n",
       "      <th>23050</th>\n",
       "      <td>85115299378</td>\n",
       "      <td>271020</td>\n",
       "      <td>2011-01-25</td>\n",
       "      <td>2</td>\n",
       "      <td>6</td>\n",
       "      <td>4</td>\n",
       "      <td>1052</td>\n",
       "      <td>441.840</td>\n",
       "      <td>4649.840</td>\n",
       "      <td>MBR</td>\n",
       "      <td>Home and kitchen</td>\n",
       "      <td>Furnishing</td>\n",
       "      <td>1976-06-20</td>\n",
       "      <td>M</td>\n",
       "      <td>8.0</td>\n",
       "    </tr>\n",
       "    <tr>\n",
       "      <th>23051</th>\n",
       "      <td>72870271171</td>\n",
       "      <td>270911</td>\n",
       "      <td>2011-01-25</td>\n",
       "      <td>11</td>\n",
       "      <td>5</td>\n",
       "      <td>3</td>\n",
       "      <td>1142</td>\n",
       "      <td>359.730</td>\n",
       "      <td>3785.730</td>\n",
       "      <td>TeleShop</td>\n",
       "      <td>Books</td>\n",
       "      <td>Children</td>\n",
       "      <td>1970-05-22</td>\n",
       "      <td>M</td>\n",
       "      <td>2.0</td>\n",
       "    </tr>\n",
       "    <tr>\n",
       "      <th>23052</th>\n",
       "      <td>77960931771</td>\n",
       "      <td>271961</td>\n",
       "      <td>2011-01-25</td>\n",
       "      <td>11</td>\n",
       "      <td>5</td>\n",
       "      <td>1</td>\n",
       "      <td>447</td>\n",
       "      <td>46.935</td>\n",
       "      <td>493.935</td>\n",
       "      <td>TeleShop</td>\n",
       "      <td>Books</td>\n",
       "      <td>Children</td>\n",
       "      <td>1982-01-15</td>\n",
       "      <td>M</td>\n",
       "      <td>1.0</td>\n",
       "    </tr>\n",
       "  </tbody>\n",
       "</table>\n",
       "</div>"
      ],
      "text/plain": [
       "       transaction_id  cust_id  tran_date  prod_subcat_code  prod_cat_code  \\\n",
       "23043     49882891062   271982 2011-01-25                10              5   \n",
       "23044     14787475597   273982 2011-01-25                 4              3   \n",
       "23045     50691119572   273031 2011-01-25                 6              5   \n",
       "23046     40893803228   272049 2011-01-25                11              6   \n",
       "23047     30856003613   266866 2011-01-25                 4              2   \n",
       "23048     94340757522   274550 2011-01-25                12              5   \n",
       "23049     89780862956   270022 2011-01-25                 4              1   \n",
       "23050     85115299378   271020 2011-01-25                 2              6   \n",
       "23051     72870271171   270911 2011-01-25                11              5   \n",
       "23052     77960931771   271961 2011-01-25                11              5   \n",
       "\n",
       "       Qty  Rate      Tax  total_amt Store_type          prod_cat  \\\n",
       "23043    4  1330  558.600   5878.600     e-Shop             Books   \n",
       "23044    5   969  508.725   5353.725     e-Shop       Electronics   \n",
       "23045    1  1148  120.540   1268.540   TeleShop             Books   \n",
       "23046    3  1077  339.255   3570.255     e-Shop  Home and kitchen   \n",
       "23047    2   444   93.240    981.240   TeleShop          Footwear   \n",
       "23048    1  1264  132.720   1396.720     e-Shop             Books   \n",
       "23049    1   677   71.085    748.085     e-Shop          Clothing   \n",
       "23050    4  1052  441.840   4649.840        MBR  Home and kitchen   \n",
       "23051    3  1142  359.730   3785.730   TeleShop             Books   \n",
       "23052    1   447   46.935    493.935   TeleShop             Books   \n",
       "\n",
       "       prod_subcat        DOB Gender  city_code  \n",
       "23043  Non-Fiction 1976-08-10      M        8.0  \n",
       "23044      Mobiles 1991-10-12      M        4.0  \n",
       "23045          DIY 1980-01-17      F        8.0  \n",
       "23046         Bath 1975-06-28      F        6.0  \n",
       "23047         Kids 1974-04-18      M        4.0  \n",
       "23048     Academic 1972-02-21      M        7.0  \n",
       "23049         Mens 1984-04-27      M        9.0  \n",
       "23050   Furnishing 1976-06-20      M        8.0  \n",
       "23051     Children 1970-05-22      M        2.0  \n",
       "23052     Children 1982-01-15      M        1.0  "
      ]
     },
     "execution_count": 222,
     "metadata": {},
     "output_type": "execute_result"
    }
   ],
   "source": [
    "customer_final.tail(10)"
   ]
  },
  {
   "cell_type": "code",
   "execution_count": 224,
   "id": "d537a17d-4a28-4ddd-a02a-302e17c0a8ba",
   "metadata": {},
   "outputs": [
    {
     "data": {
      "text/html": [
       "<div>\n",
       "<style scoped>\n",
       "    .dataframe tbody tr th:only-of-type {\n",
       "        vertical-align: middle;\n",
       "    }\n",
       "\n",
       "    .dataframe tbody tr th {\n",
       "        vertical-align: top;\n",
       "    }\n",
       "\n",
       "    .dataframe thead th {\n",
       "        text-align: right;\n",
       "    }\n",
       "</style>\n",
       "<table border=\"1\" class=\"dataframe\">\n",
       "  <thead>\n",
       "    <tr style=\"text-align: right;\">\n",
       "      <th></th>\n",
       "      <th>count</th>\n",
       "      <th>mean</th>\n",
       "      <th>min</th>\n",
       "      <th>25%</th>\n",
       "      <th>50%</th>\n",
       "      <th>75%</th>\n",
       "      <th>max</th>\n",
       "      <th>std</th>\n",
       "    </tr>\n",
       "  </thead>\n",
       "  <tbody>\n",
       "    <tr>\n",
       "      <th>transaction_id</th>\n",
       "      <td>23040.0</td>\n",
       "      <td>50069552219.162758</td>\n",
       "      <td>3268991.0</td>\n",
       "      <td>24933147151.25</td>\n",
       "      <td>50091880127.5</td>\n",
       "      <td>75326317773.5</td>\n",
       "      <td>99987549630.0</td>\n",
       "      <td>28980615382.236916</td>\n",
       "    </tr>\n",
       "    <tr>\n",
       "      <th>cust_id</th>\n",
       "      <td>23040.0</td>\n",
       "      <td>271021.880252</td>\n",
       "      <td>266783.0</td>\n",
       "      <td>268935.0</td>\n",
       "      <td>270980.5</td>\n",
       "      <td>273114.25</td>\n",
       "      <td>275265.0</td>\n",
       "      <td>2431.573668</td>\n",
       "    </tr>\n",
       "    <tr>\n",
       "      <th>tran_date</th>\n",
       "      <td>23040</td>\n",
       "      <td>2012-08-09 05:59:11.250000128</td>\n",
       "      <td>2011-01-25 00:00:00</td>\n",
       "      <td>2011-11-02 18:00:00</td>\n",
       "      <td>2012-08-11 00:00:00</td>\n",
       "      <td>2013-05-17 00:00:00</td>\n",
       "      <td>2014-02-28 00:00:00</td>\n",
       "      <td>NaN</td>\n",
       "    </tr>\n",
       "    <tr>\n",
       "      <th>prod_subcat_code</th>\n",
       "      <td>23040.0</td>\n",
       "      <td>6.148785</td>\n",
       "      <td>1.0</td>\n",
       "      <td>3.0</td>\n",
       "      <td>5.0</td>\n",
       "      <td>10.0</td>\n",
       "      <td>12.0</td>\n",
       "      <td>3.726197</td>\n",
       "    </tr>\n",
       "    <tr>\n",
       "      <th>prod_cat_code</th>\n",
       "      <td>23040.0</td>\n",
       "      <td>3.763498</td>\n",
       "      <td>1.0</td>\n",
       "      <td>2.0</td>\n",
       "      <td>4.0</td>\n",
       "      <td>5.0</td>\n",
       "      <td>6.0</td>\n",
       "      <td>1.677091</td>\n",
       "    </tr>\n",
       "    <tr>\n",
       "      <th>Qty</th>\n",
       "      <td>23040.0</td>\n",
       "      <td>2.435764</td>\n",
       "      <td>-5.0</td>\n",
       "      <td>1.0</td>\n",
       "      <td>3.0</td>\n",
       "      <td>4.0</td>\n",
       "      <td>5.0</td>\n",
       "      <td>2.264326</td>\n",
       "    </tr>\n",
       "    <tr>\n",
       "      <th>Rate</th>\n",
       "      <td>23040.0</td>\n",
       "      <td>637.094965</td>\n",
       "      <td>-1499.0</td>\n",
       "      <td>312.0</td>\n",
       "      <td>710.0</td>\n",
       "      <td>1109.0</td>\n",
       "      <td>1500.0</td>\n",
       "      <td>621.727374</td>\n",
       "    </tr>\n",
       "    <tr>\n",
       "      <th>Tax</th>\n",
       "      <td>23040.0</td>\n",
       "      <td>248.677488</td>\n",
       "      <td>7.35</td>\n",
       "      <td>98.28</td>\n",
       "      <td>199.08</td>\n",
       "      <td>365.7675</td>\n",
       "      <td>787.5</td>\n",
       "      <td>187.188311</td>\n",
       "    </tr>\n",
       "    <tr>\n",
       "      <th>total_amt</th>\n",
       "      <td>23040.0</td>\n",
       "      <td>2109.865226</td>\n",
       "      <td>-8270.925</td>\n",
       "      <td>762.45</td>\n",
       "      <td>1756.95</td>\n",
       "      <td>3570.255</td>\n",
       "      <td>8287.5</td>\n",
       "      <td>2505.610295</td>\n",
       "    </tr>\n",
       "    <tr>\n",
       "      <th>DOB</th>\n",
       "      <td>23040</td>\n",
       "      <td>1981-07-14 18:04:37.500000</td>\n",
       "      <td>1970-01-02 00:00:00</td>\n",
       "      <td>1975-09-25 12:00:00</td>\n",
       "      <td>1981-06-16 00:00:00</td>\n",
       "      <td>1987-06-05 06:00:00</td>\n",
       "      <td>1992-12-29 00:00:00</td>\n",
       "      <td>NaN</td>\n",
       "    </tr>\n",
       "    <tr>\n",
       "      <th>city_code</th>\n",
       "      <td>23032.0</td>\n",
       "      <td>5.483067</td>\n",
       "      <td>1.0</td>\n",
       "      <td>3.0</td>\n",
       "      <td>5.0</td>\n",
       "      <td>8.0</td>\n",
       "      <td>10.0</td>\n",
       "      <td>2.863331</td>\n",
       "    </tr>\n",
       "  </tbody>\n",
       "</table>\n",
       "</div>"
      ],
      "text/plain": [
       "                    count                           mean                  min  \\\n",
       "transaction_id    23040.0             50069552219.162758            3268991.0   \n",
       "cust_id           23040.0                  271021.880252             266783.0   \n",
       "tran_date           23040  2012-08-09 05:59:11.250000128  2011-01-25 00:00:00   \n",
       "prod_subcat_code  23040.0                       6.148785                  1.0   \n",
       "prod_cat_code     23040.0                       3.763498                  1.0   \n",
       "Qty               23040.0                       2.435764                 -5.0   \n",
       "Rate              23040.0                     637.094965              -1499.0   \n",
       "Tax               23040.0                     248.677488                 7.35   \n",
       "total_amt         23040.0                    2109.865226            -8270.925   \n",
       "DOB                 23040     1981-07-14 18:04:37.500000  1970-01-02 00:00:00   \n",
       "city_code         23032.0                       5.483067                  1.0   \n",
       "\n",
       "                                  25%                  50%  \\\n",
       "transaction_id         24933147151.25        50091880127.5   \n",
       "cust_id                      268935.0             270980.5   \n",
       "tran_date         2011-11-02 18:00:00  2012-08-11 00:00:00   \n",
       "prod_subcat_code                  3.0                  5.0   \n",
       "prod_cat_code                     2.0                  4.0   \n",
       "Qty                               1.0                  3.0   \n",
       "Rate                            312.0                710.0   \n",
       "Tax                             98.28               199.08   \n",
       "total_amt                      762.45              1756.95   \n",
       "DOB               1975-09-25 12:00:00  1981-06-16 00:00:00   \n",
       "city_code                         3.0                  5.0   \n",
       "\n",
       "                                  75%                  max                 std  \n",
       "transaction_id          75326317773.5        99987549630.0  28980615382.236916  \n",
       "cust_id                     273114.25             275265.0         2431.573668  \n",
       "tran_date         2013-05-17 00:00:00  2014-02-28 00:00:00                 NaN  \n",
       "prod_subcat_code                 10.0                 12.0            3.726197  \n",
       "prod_cat_code                     5.0                  6.0            1.677091  \n",
       "Qty                               4.0                  5.0            2.264326  \n",
       "Rate                           1109.0               1500.0          621.727374  \n",
       "Tax                          365.7675                787.5          187.188311  \n",
       "total_amt                    3570.255               8287.5         2505.610295  \n",
       "DOB               1987-06-05 06:00:00  1992-12-29 00:00:00                 NaN  \n",
       "city_code                         8.0                 10.0            2.863331  "
      ]
     },
     "execution_count": 224,
     "metadata": {},
     "output_type": "execute_result"
    }
   ],
   "source": [
    "## (c.)\n",
    "\n",
    "customer_final.describe().T"
   ]
  },
  {
   "cell_type": "code",
   "execution_count": 226,
   "id": "3186be73-e199-421e-b1ee-dee0a7ee4f2b",
   "metadata": {},
   "outputs": [
    {
     "data": {
      "text/html": [
       "<div>\n",
       "<style scoped>\n",
       "    .dataframe tbody tr th:only-of-type {\n",
       "        vertical-align: middle;\n",
       "    }\n",
       "\n",
       "    .dataframe tbody tr th {\n",
       "        vertical-align: top;\n",
       "    }\n",
       "\n",
       "    .dataframe thead th {\n",
       "        text-align: right;\n",
       "    }\n",
       "</style>\n",
       "<table border=\"1\" class=\"dataframe\">\n",
       "  <thead>\n",
       "    <tr style=\"text-align: right;\">\n",
       "      <th></th>\n",
       "      <th>Store_type</th>\n",
       "      <th>prod_cat</th>\n",
       "      <th>prod_subcat</th>\n",
       "      <th>Gender</th>\n",
       "    </tr>\n",
       "  </thead>\n",
       "  <tbody>\n",
       "    <tr>\n",
       "      <th>count</th>\n",
       "      <td>23040</td>\n",
       "      <td>23040</td>\n",
       "      <td>23040</td>\n",
       "      <td>23031</td>\n",
       "    </tr>\n",
       "    <tr>\n",
       "      <th>unique</th>\n",
       "      <td>4</td>\n",
       "      <td>6</td>\n",
       "      <td>18</td>\n",
       "      <td>2</td>\n",
       "    </tr>\n",
       "    <tr>\n",
       "      <th>top</th>\n",
       "      <td>e-Shop</td>\n",
       "      <td>Books</td>\n",
       "      <td>Women</td>\n",
       "      <td>M</td>\n",
       "    </tr>\n",
       "    <tr>\n",
       "      <th>freq</th>\n",
       "      <td>9304</td>\n",
       "      <td>6066</td>\n",
       "      <td>3046</td>\n",
       "      <td>11804</td>\n",
       "    </tr>\n",
       "  </tbody>\n",
       "</table>\n",
       "</div>"
      ],
      "text/plain": [
       "       Store_type prod_cat prod_subcat Gender\n",
       "count       23040    23040       23040  23031\n",
       "unique          4        6          18      2\n",
       "top        e-Shop    Books       Women      M\n",
       "freq         9304     6066        3046  11804"
      ]
     },
     "execution_count": 226,
     "metadata": {},
     "output_type": "execute_result"
    }
   ],
   "source": [
    "### (d.)\n",
    "\n",
    "customer_final.loc[:,customer_final.dtypes==\"object\"].describe()"
   ]
  },
  {
   "cell_type": "markdown",
   "id": "a518fc9c-fa32-4a83-a21c-7b3ea5a59d12",
   "metadata": {},
   "source": [
    "### Q3. Generate histograms for all continuous variables and frequency bars for categorical variables."
   ]
  },
  {
   "cell_type": "code",
   "execution_count": 308,
   "id": "408d5a7b-04e2-4869-80fa-b3775f72c157",
   "metadata": {},
   "outputs": [
    {
     "data": {
      "image/png": "[encoded data removed]",
      "text/plain": [
       "<Figure size 640x480 with 1 Axes>"
      ]
     },
     "metadata": {},
     "output_type": "display_data"
    },
    {
     "data": {
      "image/png": "[encoded data removed]",
      "text/plain": [
       "<Figure size 640x480 with 1 Axes>"
      ]
     },
     "metadata": {},
     "output_type": "display_data"
    },
    {
     "data": {
      "image/png": "[encoded data removed]",
      "text/plain": [
       "<Figure size 640x480 with 1 Axes>"
      ]
     },
     "metadata": {},
     "output_type": "display_data"
    },
    {
     "data": {
      "image/png": "[encoded data removed]",
      "text/plain": [
       "<Figure size 640x480 with 1 Axes>"
      ]
     },
     "metadata": {},
     "output_type": "display_data"
    },
    {
     "data": {
      "image/png": "[encoded data removed]",
      "text/plain": [
       "<Figure size 640x480 with 1 Axes>"
      ]
     },
     "metadata": {},
     "output_type": "display_data"
    },
    {
     "data": {
      "image/png": "[encoded data removed]",
      "text/plain": [
       "<Figure size 640x480 with 1 Axes>"
      ]
     },
     "metadata": {},
     "output_type": "display_data"
    },
    {
     "data": {
      "text/plain": [
       "transaction_id      None\n",
       "cust_id             None\n",
       "prod_subcat_code    None\n",
       "prod_cat_code       None\n",
       "Qty                 None\n",
       "Rate                None\n",
       "dtype: object"
      ]
     },
     "execution_count": 308,
     "metadata": {},
     "output_type": "execute_result"
    }
   ],
   "source": [
    "## Histograms for all continuous variables:\n",
    "\n",
    "def hist(x):\n",
    "    plt.title('Frequency distribution of '+ x.name)\n",
    "    x.hist()\n",
    "    plt.ylabel('Frequency')\n",
    "    plt.show()\n",
    "customer_final.select_dtypes('int64','float64').apply(hist)"
   ]
  },
  {
   "cell_type": "code",
   "execution_count": 1262,
   "id": "b79d9703-4c30-451e-993b-5c87bac41417",
   "metadata": {},
   "outputs": [
    {
     "data": {
      "image/png": "[encoded data removed]",
      "text/plain": [
       "<Figure size 640x480 with 1 Axes>"
      ]
     },
     "metadata": {},
     "output_type": "display_data"
    },
    {
     "data": {
      "image/png": "[encoded data removed]",
      "text/plain": [
       "<Figure size 640x480 with 1 Axes>"
      ]
     },
     "metadata": {},
     "output_type": "display_data"
    },
    {
     "data": {
      "image/png": "[encoded data removed]",
      "text/plain": [
       "<Figure size 640x480 with 1 Axes>"
      ]
     },
     "metadata": {},
     "output_type": "display_data"
    },
    {
     "data": {
      "image/png": "[encoded data removed]",
      "text/plain": [
       "<Figure size 640x480 with 1 Axes>"
      ]
     },
     "metadata": {},
     "output_type": "display_data"
    },
    {
     "data": {
      "text/plain": [
       "Store_type     None\n",
       "prod_cat       None\n",
       "prod_subcat    None\n",
       "Gender         None\n",
       "dtype: object"
      ]
     },
     "execution_count": 1262,
     "metadata": {},
     "output_type": "execute_result"
    }
   ],
   "source": [
    "## frequency bars for categorical variables:\n",
    "\n",
    "def bars(x):\n",
    "    plt.title('Frequency distribution of '+ x.name )\n",
    "    x.value_counts().plot(kind='bar')\n",
    "    plt.ylabel('Frequency')\n",
    "    plt.show()\n",
    "customer_final.select_dtypes('object').apply(bars)"
   ]
  },
  {
   "cell_type": "markdown",
   "id": "f7a4db8c-4e17-43e1-b8bb-542e321e5665",
   "metadata": {},
   "source": [
    "### Q4. Calculate the following information using the merged dataset :\n",
    "a. Time period of the available transaction data\n",
    "\n",
    "b. Count of transactions where the total amount of transaction was negative"
   ]
  },
  {
   "cell_type": "code",
   "execution_count": 686,
   "id": "5f8ab802-cb61-4d6b-bde1-ece9db278fc1",
   "metadata": {},
   "outputs": [
    {
     "name": "stdout",
     "output_type": "stream",
     "text": [
      "Time period of the available transaction data is from 25-01-2011 to 28-02-2014\n"
     ]
    }
   ],
   "source": [
    "### (a.)\n",
    "\n",
    "ma = dt.datetime.strftime(customer_final.tran_date.max(), '%d-%m-%Y')\n",
    "mi = dt.datetime.strftime(customer_final.tran_date.min(), '%d-%m-%Y')\n",
    "print('Time period of the available transaction data is from '+ mi +' to ' + ma)"
   ]
  },
  {
   "cell_type": "code",
   "execution_count": 709,
   "id": "c8f4f28c-d717-43ca-b5a0-67b155e0d355",
   "metadata": {},
   "outputs": [
    {
     "name": "stdout",
     "output_type": "stream",
     "text": [
      "Count of transactions where the total amount of transaction was negative is 2164\n"
     ]
    }
   ],
   "source": [
    "### (b.)\n",
    "\n",
    "negative= customer_final.loc[customer_final.total_amt < 0 , \"transaction_id\"].count()\n",
    "print(\"Count of transactions where the total amount of transaction was negative is\",negative)"
   ]
  },
  {
   "cell_type": "markdown",
   "id": "c12bc06f-027d-40f9-aa48-3d1b9fe71d6e",
   "metadata": {},
   "source": [
    "### Q5. Analyze which product categories are more popular among females vs male customers."
   ]
  },
  {
   "cell_type": "code",
   "execution_count": 1215,
   "id": "8b932064-437f-4b9a-8a6d-66b3ad0bbff8",
   "metadata": {},
   "outputs": [
    {
     "name": "stdout",
     "output_type": "stream",
     "text": [
      "Top 3 product categories among females:\n",
      " Gender         prod_cat  Qty\n",
      "     F            Books 7080\n",
      "     F      Electronics 5832\n",
      "     F Home and kitchen 4898\n",
      "\n",
      "Top 3 product categories among males:\n",
      " Gender         prod_cat  Qty\n",
      "     M            Books 7587\n",
      "     M      Electronics 6486\n",
      "     M Home and kitchen 5051\n"
     ]
    }
   ],
   "source": [
    "product_gender = customer_final.groupby([\"Gender\",\"prod_cat\"])[[\"Qty\"]].sum().reset_index()\n",
    "product_gender_sorted= product_gender.sort_values(by=['Gender','Qty'] , ascending= [True, False]).reset_index(drop=True)\n",
    "\n",
    "top_female = product_gender_sorted[product_gender_sorted['Gender'] == 'F'].head(3)\n",
    "top_male = product_gender_sorted[product_gender_sorted['Gender'] == 'M'].head(3)\n",
    "\n",
    "print(\"Top 3 product categories among females:\\n\", top_female.to_string(index=False))\n",
    "print(\"\\nTop 3 product categories among males:\\n\", top_male.to_string(index=False))"
   ]
  },
  {
   "cell_type": "markdown",
   "id": "275c3a54-92fd-44f7-8ebd-7f76c4d67e4e",
   "metadata": {},
   "source": [
    "#### From the above output:\n",
    "Products that are popular among males are:\n",
    "\n",
    "* Books\n",
    "\n",
    "* Electronics\n",
    "* Home and kitchen\n",
    "\n",
    "Products that are popular among females are:\n",
    "\n",
    "* Bags\n",
    "* Footwear"
   ]
  },
  {
   "cell_type": "markdown",
   "id": "b629120d-0ffe-41d4-94fb-09977861da28",
   "metadata": {},
   "source": [
    "### Q6. Which City code has the maximum customers and what was the percentage of customers from that city?"
   ]
  },
  {
   "cell_type": "code",
   "execution_count": 1196,
   "id": "b119940f-94ba-4fdb-b5d0-30387e1bf92c",
   "metadata": {},
   "outputs": [
    {
     "name": "stdout",
     "output_type": "stream",
     "text": [
      "city code 4.0 has the maximun customers & the percentage of customers from that city is : 10.52 %\n"
     ]
    }
   ],
   "source": [
    "max_customer= customer_final.groupby('city_code')[['cust_id']].count().sort_values(by='cust_id', ascending= False).reset_index()\n",
    "max_customer['cust_id']= round(max_customer.cust_id/max_customer.cust_id.sum()*100,2)\n",
    "per_customer = max_customer.head(1)\n",
    "print('city code', per_customer.city_code.to_string(index=False) , 'has the maximun customers & the percentage of customers from that city is :',per_customer.cust_id.to_string(index=False),'%')"
   ]
  },
  {
   "cell_type": "markdown",
   "id": "18bf205c-79a9-4216-a412-42b1205370f0",
   "metadata": {},
   "source": [
    "### Q7. Which store type sells the maximum products by value and by quantity?"
   ]
  },
  {
   "cell_type": "code",
   "execution_count": 1257,
   "id": "4b7c0075-f5e5-4e96-a8e4-3e765ef1a467",
   "metadata": {},
   "outputs": [
    {
     "name": "stdout",
     "output_type": "stream",
     "text": [
      "e-Shop Store sells the maximum products by VALUE which is : 19842623.125\n",
      "e-Shop Store sells the maximum products by QUANTITY which is : 22790\n"
     ]
    }
   ],
   "source": [
    "s1= customer_final.groupby(customer_final.Store_type )[['total_amt','Qty']].sum().reset_index()\n",
    "max_byvalue = s1.sort_values(by='total_amt',ascending= False , ignore_index= True).head(1)\n",
    "max_byqty = s1.sort_values(by='Qty',ascending= False , ignore_index= True).head(1)\n",
    "print(max_byvalue.Store_type.to_string(index= False) ,'Store sells the maximum products by VALUE which is :',max_byvalue.total_amt.to_string(index= False))\n",
    "print(max_byqty.Store_type.to_string(index= False) ,'Store sells the maximum products by QUANTITY which is :',max_byqty.Qty.to_string(index= False))"
   ]
  },
  {
   "cell_type": "markdown",
   "id": "09dcc991-8310-46cb-882d-98742b2a12cb",
   "metadata": {},
   "source": [
    "### Q8. What was the total amount earned from the \"Electronics\" and \"Clothing\" categories from Flagship Stores?"
   ]
  },
  {
   "cell_type": "code",
   "execution_count": 1394,
   "id": "7c960385-a455-4c43-8800-54c2f3bbe895",
   "metadata": {},
   "outputs": [
    {
     "name": "stdout",
     "output_type": "stream",
     "text": [
      "The total amount earned from the Electronics & Clothing categories from Flagship Stores is :  3409559.27\n"
     ]
    }
   ],
   "source": [
    "ct1 = pd.crosstab(index= customer_final.Store_type , columns= customer_final.prod_cat, values= customer_final.total_amt , aggfunc='sum')\n",
    "total_amount = ct1.loc['Flagship store',['Electronics','Clothing']].sum()\n",
    "print(\"The total amount earned from the Electronics & Clothing categories from Flagship Stores is : \",total_amount)"
   ]
  },
  {
   "cell_type": "markdown",
   "id": "60e71b28-30ce-4887-9407-3dd48c33cf6c",
   "metadata": {},
   "source": [
    "### Q9. What was the total amount earned from \"Male\" customers under the \"Electronics\" category?"
   ]
  },
  {
   "cell_type": "code",
   "execution_count": 1424,
   "id": "96e30606-37ee-4733-8e52-e6bb0d9643f8",
   "metadata": {},
   "outputs": [
    {
     "name": "stdout",
     "output_type": "stream",
     "text": [
      "the total amount earned from Male customers under the Electronics category is :  5711351.62\n"
     ]
    }
   ],
   "source": [
    "tot_amount = customer_final[(customer_final.prod_cat=='Electronics') & (customer_final.Gender=='M')].total_amt.sum()\n",
    "print('the total amount earned from Male customers under the Electronics category is : ',tot_amount)"
   ]
  },
  {
   "cell_type": "markdown",
   "id": "4b405190-785e-4b3c-996e-5d4331c3528c",
   "metadata": {},
   "source": [
    "### Q10. How many customers have more than 10 unique transactions, after removing all transactions which have any negative amounts?"
   ]
  },
  {
   "cell_type": "code",
   "execution_count": 1587,
   "id": "5a890ad2-d1e0-42d2-a039-db35dd96784d",
   "metadata": {},
   "outputs": [
    {
     "name": "stdout",
     "output_type": "stream",
     "text": [
      "6 Customers have more than 10 unique transactions\n"
     ]
    }
   ],
   "source": [
    "cust1 = customer_final[customer_final.total_amt>0 ]\n",
    "ct2 = cust1.groupby([cust1.cust_id])[['transaction_id']].nunique().rename(columns={'transaction_id':'No_of_transaction'}).reset_index()\n",
    "total_cust = ct2[ct2.No_of_transaction > 10].cust_id.count()\n",
    "print(total_cust,\"Customers have more than 10 unique transactions\")"
   ]
  },
  {
   "cell_type": "markdown",
   "id": "bf051a62-12b9-41d8-822b-3ef919dd0d8c",
   "metadata": {},
   "source": [
    "### Q11. For all customers aged between 25 - 35, find out:\n",
    "a. What was the total amount spent for “Electronics” and “Books” product categories?\n",
    "\n",
    "b. What was the total amount spent by these customers between 1st Jan, 2014 to 1st Mar, 2014?"
   ]
  },
  {
   "cell_type": "code",
   "execution_count": 1669,
   "id": "807a6e73-c9c1-4247-b67a-47b0411a9621",
   "metadata": {},
   "outputs": [],
   "source": [
    "### (a.)\n",
    "\n",
    "customer_final['Age']=pd.Timestamp.today().year-customer_final.DOB.apply(lambda x :x.year)"
   ]
  },
  {
   "cell_type": "code",
   "execution_count": 1753,
   "id": "760c827e-a009-4064-9ea7-1bd5706cefc6",
   "metadata": {},
   "outputs": [
    {
     "name": "stdout",
     "output_type": "stream",
     "text": [
      "The total amount spent for “Electronics” and “Books” product categories for customers aged between 25 - 35 is :  2794995.84\n"
     ]
    }
   ],
   "source": [
    "total_spend= customer_final[((customer_final.Age >= 25) & (customer_final.Age <= 35)) & \n",
    "                ((customer_final.prod_cat == 'Electronics') | (customer_final.prod_cat == 'Books'))]['total_amt'].sum()\n",
    "print('The total amount spent for “Electronics” and “Books” product categories for customers aged between 25 - 35 is : ', total_spend)"
   ]
  },
  {
   "cell_type": "code",
   "execution_count": 1755,
   "id": "cd1bf9ab-956b-4347-862c-aab1f6524065",
   "metadata": {},
   "outputs": [
    {
     "name": "stdout",
     "output_type": "stream",
     "text": [
      "The total amount spent by these customers between 1st Jan, 2014 to 1st Mar, 2014 for customers aged between 25 - 35 is :  2794995.84\n"
     ]
    }
   ],
   "source": [
    "### (b.)\n",
    "\n",
    "tot_spend= customer_final[((customer_final.Age >= 25) & (customer_final.Age <= 35)) & \n",
    "                            ((customer_final.tran_date >='2014-01-01')& (customer_final.tran_date <= '2014-03-01'))]['total_amt'].sum()\n",
    "print('The total amount spent by these customers between 1st Jan, 2014 to 1st Mar, 2014 for customers aged between 25 - 35 is : ', total_spend)"
   ]
  },
  {
   "cell_type": "code",
   "execution_count": null,
   "id": "ef3f5e96-f07a-495e-a1b6-8245b1a555ae",
   "metadata": {},
   "outputs": [],
   "source": []
  }
 ],
 "metadata": {
  "kernelspec": {
   "display_name": "Python [conda env:base] *",
   "language": "python",
   "name": "conda-base-py"
  },
  "language_info": {
   "codemirror_mode": {
    "name": "ipython",
    "version": 3
   },
   "file_extension": ".py",
   "mimetype": "text/x-python",
   "name": "python",
   "nbconvert_exporter": "python",
   "pygments_lexer": "ipython3",
   "version": "3.12.7"
  }
 },
 "nbformat": 4,
 "nbformat_minor": 5
}
